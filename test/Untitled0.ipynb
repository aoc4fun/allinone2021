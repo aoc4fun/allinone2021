{
  "nbformat": 4,
  "nbformat_minor": 0,
  "metadata": {
    "colab": {
      "provenance": [],
      "authorship_tag": "ABX9TyMrmuKDu0ICIKhQjdQkR9Im",
      "include_colab_link": true
    },
    "kernelspec": {
      "name": "python3",
      "display_name": "Python 3"
    },
    "language_info": {
      "name": "python"
    }
  },
  "cells": [
    {
      "cell_type": "markdown",
      "metadata": {
        "id": "view-in-github",
        "colab_type": "text"
      },
      "source": [
        "<a href=\"https://colab.research.google.com/github/aoc-ptctech-ch/allinone2021/blob/main/test/Untitled0.ipynb\" target=\"_parent\"><img src=\"https://colab.research.google.com/assets/colab-badge.svg\" alt=\"Open In Colab\"/></a>"
      ]
    },
    {
      "cell_type": "markdown",
      "source": [
        "Comptons le nombre d'incrément..."
      ],
      "metadata": {
        "id": "O_qB2pGfodki"
      }
    },
    {
      "cell_type": "code",
      "execution_count": null,
      "metadata": {
        "id": "xgPvNWK2cN5r",
        "colab": {
          "base_uri": "https://localhost:8080/"
        },
        "outputId": "fcb91104-03d4-4a2e-dbe2-093d6e9b7153"
      },
      "outputs": [
        {
          "output_type": "stream",
          "name": "stdout",
          "text": [
            "7\n"
          ]
        }
      ],
      "source": [
        "input = [199, 200, 208, 210, 200, 207, 240, 269, 260, 263]\n",
        "\n",
        "def count_increase(data):\n",
        "  prev = data[0]\n",
        "  res = 0\n",
        "  for d in data[1:]:\n",
        "    if d > prev:\n",
        "      res+=1\n",
        "    prev = d\n",
        "  return res\n",
        "\n",
        "print(count_increase(input))"
      ]
    },
    {
      "cell_type": "code",
      "source": [
        "import unittest\n",
        "\n",
        "class TestStringMethods(unittest.TestCase):\n",
        "\n",
        "    def test_upper(self):\n",
        "        self.assertEqual(9, count_increase([199, 200, 208, 210, 200, 207, 240, 269, 260, 263]))\n",
        "\n",
        "unittest.main(argv=[''], verbosity=2, exit=False)"
      ],
      "metadata": {
        "colab": {
          "base_uri": "https://localhost:8080/"
        },
        "id": "6wCX458ApTM_",
        "outputId": "66bab52b-47df-4def-a609-3e579846dea7"
      },
      "execution_count": null,
      "outputs": [
        {
          "output_type": "stream",
          "name": "stderr",
          "text": [
            "test_upper (__main__.TestStringMethods) ... FAIL\n",
            "\n",
            "======================================================================\n",
            "FAIL: test_upper (__main__.TestStringMethods)\n",
            "----------------------------------------------------------------------\n",
            "Traceback (most recent call last):\n",
            "  File \"<ipython-input-11-48530309607e>\", line 6, in test_upper\n",
            "    self.assertEqual(9, count_increase([199, 200, 208, 210, 200, 207, 240, 269, 260, 263]))\n",
            "AssertionError: 9 != 7\n",
            "\n",
            "----------------------------------------------------------------------\n",
            "Ran 1 test in 0.009s\n",
            "\n",
            "FAILED (failures=1)\n"
          ]
        },
        {
          "output_type": "execute_result",
          "data": {
            "text/plain": [
              "<unittest.main.TestProgram at 0x7f5951ce8990>"
            ]
          },
          "metadata": {},
          "execution_count": 11
        }
      ]
    }
  ]
}